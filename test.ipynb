{
 "cells": [
  {
   "cell_type": "code",
   "execution_count": 4,
   "metadata": {},
   "outputs": [
    {
     "name": "stderr",
     "output_type": "stream",
     "text": [
      "/Users/raphaelsourty/opt/miniconda3/envs/lighton/lib/python3.10/site-packages/tqdm/auto.py:21: TqdmWarning: IProgress not found. Please update jupyter and ipywidgets. See https://ipywidgets.readthedocs.io/en/stable/user_install.html\n",
      "  from .autonotebook import tqdm as notebook_tqdm\n"
     ]
    }
   ],
   "source": [
    "from neural_cherche import utils"
   ]
  },
  {
   "cell_type": "code",
   "execution_count": 5,
   "metadata": {},
   "outputs": [],
   "source": [
    "sentences = [\"hello world !!!\" * 100] * 1000000"
   ]
  },
  {
   "cell_type": "code",
   "execution_count": 1,
   "metadata": {},
   "outputs": [
    {
     "ename": "NameError",
     "evalue": "name 'utils' is not defined",
     "output_type": "error",
     "traceback": [
      "\u001b[0;31m---------------------------------------------------------------------------\u001b[0m",
      "\u001b[0;31mNameError\u001b[0m                                 Traceback (most recent call last)",
      "Cell \u001b[0;32mIn[1], line 2\u001b[0m\n\u001b[1;32m      1\u001b[0m \u001b[38;5;28;01mfrom\u001b[39;00m \u001b[38;5;21;01mrsantelope\u001b[39;00m \u001b[38;5;28;01mimport\u001b[39;00m rsnormalize_many\n\u001b[0;32m----> 2\u001b[0m x \u001b[38;5;241m=\u001b[39m [rsnormalize_many(batch) \u001b[38;5;28;01mfor\u001b[39;00m batch \u001b[38;5;129;01min\u001b[39;00m \u001b[43mutils\u001b[49m\u001b[38;5;241m.\u001b[39mbatchify(sentences, \u001b[38;5;241m1000\u001b[39m)]\n",
      "\u001b[0;31mNameError\u001b[0m: name 'utils' is not defined"
     ]
    }
   ],
   "source": [
    "from rsantelope import rsnormalize_many\n",
    "x = [rsnormalize_many(batch) for batch in utils.batchify(sentences, 1000)]"
   ]
  },
  {
   "cell_type": "code",
   "execution_count": 4,
   "metadata": {},
   "outputs": [
    {
     "name": "stderr",
     "output_type": "stream",
     "text": [
      "100%|█████████▉| 1000/1001 [00:08<00:00, 124.38it/s]\n"
     ]
    }
   ],
   "source": [
    "\n",
    "import re\n",
    "import unidecode\n",
    "a = [[re.sub(r'[^\\x00-\\x7f]',r'',  unidecode.unidecode(x.lower())) for x in batch] for batch in utils.batchify(sentences, 1000)]"
   ]
  },
  {
   "cell_type": "code",
   "execution_count": 16,
   "metadata": {},
   "outputs": [
    {
     "data": {
      "text/plain": [
       "100000"
      ]
     },
     "execution_count": 16,
     "metadata": {},
     "output_type": "execute_result"
    }
   ],
   "source": [
    "len(sentences)"
   ]
  },
  {
   "cell_type": "code",
   "execution_count": 6,
   "metadata": {},
   "outputs": [],
   "source": [
    "import re\n",
    "str = \"123456790 ABC#%? .(朱惠英)\"\n",
    "result = re.sub(r'[^\\x00-\\x7f]',r'', str)\n"
   ]
  },
  {
   "cell_type": "code",
   "execution_count": 1,
   "metadata": {},
   "outputs": [],
   "source": [
    "from rsantelope import rschar_ngrams_many, rschar_wb_ngrams_many, rsnormalize_many, rscount_many, rsvectorize_many\n",
    "from sklearn.feature_extraction.text import CountVectorizer\n",
    "sentences = [f\"{i} {i+1}\" * 10 for i in range(1000, 2000)] * 100"
   ]
  },
  {
   "cell_type": "code",
   "execution_count": 3,
   "metadata": {},
   "outputs": [],
   "source": [
    "x = rscount_many(rschar_ngrams_many(rsnormalize_many(sentences), [3, 7]))"
   ]
  },
  {
   "cell_type": "code",
   "execution_count": 7,
   "metadata": {},
   "outputs": [
    {
     "name": "stdout",
     "output_type": "stream",
     "text": [
      "308 ms ± 30.1 ms per loop (mean ± std. dev. of 7 runs, 1 loop each)\n"
     ]
    }
   ],
   "source": [
    "%%timeit \n",
    "x = rsvectorize_many(sentences, [3, 7])"
   ]
  },
  {
   "cell_type": "code",
   "execution_count": 8,
   "metadata": {},
   "outputs": [],
   "source": [
    "x = CountVectorizer(analyzer='char', ngram_range=(3, 7), lowercase=True).fit_transform(sentences)"
   ]
  },
  {
   "cell_type": "code",
   "execution_count": 15,
   "metadata": {},
   "outputs": [],
   "source": [
    "x = rscount_many(rschar_wb_ngrams_many(rsnormalize_many(sentences), [3, 7]))"
   ]
  },
  {
   "cell_type": "code",
   "execution_count": 16,
   "metadata": {},
   "outputs": [],
   "source": [
    "x = CountVectorizer(analyzer='char_wb', ngram_range=(3, 7), lowercase=True).fit_transform(sentences)"
   ]
  },
  {
   "cell_type": "code",
   "execution_count": 6,
   "metadata": {},
   "outputs": [
    {
     "name": "stdout",
     "output_type": "stream",
     "text": [
      "1.39 s ± 8.81 ms per loop (mean ± std. dev. of 7 runs, 1 loop each)\n"
     ]
    }
   ],
   "source": [
    "%%timeit\n",
    "x = CountVectorizer(analyzer='char_wb', ngram_range=(2, 5)).fit_transform(sentences)"
   ]
  },
  {
   "cell_type": "code",
   "execution_count": 30,
   "metadata": {},
   "outputs": [
    {
     "data": {
      "text/plain": [
       "['hello0hello0hello0hello0hello0hello0hello0hello0hello0hello0',\n",
       " 'hello1hello1hello1hello1hello1hello1hello1hello1hello1hello1',\n",
       " 'hello2hello2hello2hello2hello2hello2hello2hello2hello2hello2',\n",
       " 'hello3hello3hello3hello3hello3hello3hello3hello3hello3hello3',\n",
       " 'hello4hello4hello4hello4hello4hello4hello4hello4hello4hello4',\n",
       " 'hello5hello5hello5hello5hello5hello5hello5hello5hello5hello5',\n",
       " 'hello6hello6hello6hello6hello6hello6hello6hello6hello6hello6',\n",
       " 'hello7hello7hello7hello7hello7hello7hello7hello7hello7hello7',\n",
       " 'hello8hello8hello8hello8hello8hello8hello8hello8hello8hello8',\n",
       " 'hello9hello9hello9hello9hello9hello9hello9hello9hello9hello9']"
      ]
     },
     "execution_count": 30,
     "metadata": {},
     "output_type": "execute_result"
    }
   ],
   "source": [
    "[f\"hello{_}\"  * 10 for _ in range(10)]"
   ]
  },
  {
   "cell_type": "code",
   "execution_count": null,
   "metadata": {},
   "outputs": [],
   "source": []
  }
 ],
 "metadata": {
  "kernelspec": {
   "display_name": "lighton",
   "language": "python",
   "name": "python3"
  },
  "language_info": {
   "codemirror_mode": {
    "name": "ipython",
    "version": 3
   },
   "file_extension": ".py",
   "mimetype": "text/x-python",
   "name": "python",
   "nbconvert_exporter": "python",
   "pygments_lexer": "ipython3",
   "version": "3.10.14"
  }
 },
 "nbformat": 4,
 "nbformat_minor": 2
}
